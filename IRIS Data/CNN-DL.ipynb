{
  "nbformat": 4,
  "nbformat_minor": 0,
  "metadata": {
    "colab": {
      "provenance": []
    },
    "kernelspec": {
      "name": "python3",
      "display_name": "Python 3"
    },
    "language_info": {
      "name": "python"
    }
  },
  "cells": [
    {
      "cell_type": "code",
      "execution_count": 25,
      "metadata": {
        "id": "OX80hYlfa-as"
      },
      "outputs": [],
      "source": [
        "import numpy as np\n",
        "import pandas as pd\n",
        "from sklearn.datasets import load_iris\n",
        "from sklearn.model_selection import train_test_split\n",
        "from sklearn.preprocessing import StandardScaler\n",
        "from tensorflow.keras.models import Sequential\n",
        "from tensorflow.keras.layers import Dense\n",
        "from tensorflow.keras.layers import BatchNormalization"
      ]
    },
    {
      "cell_type": "code",
      "source": [
        "# Load the Iris dataset\n",
        "iris = load_iris()\n",
        "X, y = iris.data, iris.target"
      ],
      "metadata": {
        "id": "UsEV7V_abKVS"
      },
      "execution_count": 26,
      "outputs": []
    },
    {
      "cell_type": "code",
      "source": [
        "# Split the data into training and testing sets\n",
        "X_train, X_test, y_train, y_test = train_test_split(X, y, test_size=0.2, random_state=42)"
      ],
      "metadata": {
        "id": "EQitSfHYbWsr"
      },
      "execution_count": 27,
      "outputs": []
    },
    {
      "cell_type": "code",
      "source": [
        "# Standardize the features for better model training\n",
        "scaler = StandardScaler()\n",
        "X_train = scaler.fit_transform(X_train)\n",
        "X_test = scaler.transform(X_test)"
      ],
      "metadata": {
        "id": "cT-t-TIpbXaO"
      },
      "execution_count": 28,
      "outputs": []
    },
    {
      "cell_type": "code",
      "source": [
        "# Create the neural network model\n",
        "model = Sequential()\n",
        "model.add(Dense(64, activation='relu', input_shape=(4,)))\n",
        "model.add(Dense(32, activation='relu'))\n",
        "model.add(BatchNormalization())  # Adding Batch Normalization layer\n",
        "model.add(Dense(3, activation='softmax'))"
      ],
      "metadata": {
        "id": "P6LqGR-LbXVz"
      },
      "execution_count": 29,
      "outputs": []
    },
    {
      "cell_type": "code",
      "source": [
        "# Compile the model\n",
        "model.compile(loss='sparse_categorical_crossentropy', optimizer='adam', metrics=['accuracy'])"
      ],
      "metadata": {
        "id": "yAGpIeKwbXTN"
      },
      "execution_count": 30,
      "outputs": []
    },
    {
      "cell_type": "code",
      "source": [
        "# Train the model\n",
        "model.fit(X_train, y_train, epochs=20, batch_size=16, validation_split=0.1)"
      ],
      "metadata": {
        "colab": {
          "base_uri": "https://localhost:8080/"
        },
        "id": "ChORgMUObjDl",
        "outputId": "a27f2460-ad10-457a-ea7d-23c7efc72d2a"
      },
      "execution_count": 31,
      "outputs": [
        {
          "output_type": "stream",
          "name": "stdout",
          "text": [
            "Epoch 1/20\n",
            "7/7 [==============================] - 1s 42ms/step - loss: 0.5684 - accuracy: 0.7685 - val_loss: 0.9738 - val_accuracy: 0.5000\n",
            "Epoch 2/20\n",
            "7/7 [==============================] - 0s 8ms/step - loss: 0.3619 - accuracy: 0.8796 - val_loss: 0.9340 - val_accuracy: 0.6667\n",
            "Epoch 3/20\n",
            "7/7 [==============================] - 0s 10ms/step - loss: 0.3172 - accuracy: 0.9167 - val_loss: 0.8984 - val_accuracy: 0.7500\n",
            "Epoch 4/20\n",
            "7/7 [==============================] - 0s 9ms/step - loss: 0.2849 - accuracy: 0.9352 - val_loss: 0.8703 - val_accuracy: 0.8333\n",
            "Epoch 5/20\n",
            "7/7 [==============================] - 0s 16ms/step - loss: 0.2607 - accuracy: 0.9167 - val_loss: 0.8475 - val_accuracy: 0.9167\n",
            "Epoch 6/20\n",
            "7/7 [==============================] - 0s 9ms/step - loss: 0.2468 - accuracy: 0.9537 - val_loss: 0.8247 - val_accuracy: 0.9167\n",
            "Epoch 7/20\n",
            "7/7 [==============================] - 0s 12ms/step - loss: 0.2096 - accuracy: 0.9630 - val_loss: 0.7987 - val_accuracy: 0.9167\n",
            "Epoch 8/20\n",
            "7/7 [==============================] - 0s 11ms/step - loss: 0.2054 - accuracy: 0.9537 - val_loss: 0.7756 - val_accuracy: 0.9167\n",
            "Epoch 9/20\n",
            "7/7 [==============================] - 0s 14ms/step - loss: 0.1950 - accuracy: 0.9444 - val_loss: 0.7540 - val_accuracy: 0.9167\n",
            "Epoch 10/20\n",
            "7/7 [==============================] - 0s 15ms/step - loss: 0.1556 - accuracy: 0.9722 - val_loss: 0.7325 - val_accuracy: 0.9167\n",
            "Epoch 11/20\n",
            "7/7 [==============================] - 0s 13ms/step - loss: 0.1456 - accuracy: 0.9815 - val_loss: 0.7104 - val_accuracy: 0.9167\n",
            "Epoch 12/20\n",
            "7/7 [==============================] - 0s 15ms/step - loss: 0.1333 - accuracy: 0.9815 - val_loss: 0.6889 - val_accuracy: 0.9167\n",
            "Epoch 13/20\n",
            "7/7 [==============================] - 0s 16ms/step - loss: 0.1251 - accuracy: 0.9722 - val_loss: 0.6698 - val_accuracy: 0.9167\n",
            "Epoch 14/20\n",
            "7/7 [==============================] - 0s 15ms/step - loss: 0.1209 - accuracy: 0.9815 - val_loss: 0.6499 - val_accuracy: 0.9167\n",
            "Epoch 15/20\n",
            "7/7 [==============================] - 0s 14ms/step - loss: 0.1188 - accuracy: 0.9722 - val_loss: 0.6324 - val_accuracy: 0.9167\n",
            "Epoch 16/20\n",
            "7/7 [==============================] - 0s 12ms/step - loss: 0.1303 - accuracy: 0.9722 - val_loss: 0.6111 - val_accuracy: 0.9167\n",
            "Epoch 17/20\n",
            "7/7 [==============================] - 0s 12ms/step - loss: 0.0955 - accuracy: 0.9815 - val_loss: 0.5923 - val_accuracy: 0.9167\n",
            "Epoch 18/20\n",
            "7/7 [==============================] - 0s 15ms/step - loss: 0.0994 - accuracy: 0.9815 - val_loss: 0.5744 - val_accuracy: 0.9167\n",
            "Epoch 19/20\n",
            "7/7 [==============================] - 0s 12ms/step - loss: 0.0834 - accuracy: 0.9907 - val_loss: 0.5605 - val_accuracy: 0.9167\n",
            "Epoch 20/20\n",
            "7/7 [==============================] - 0s 15ms/step - loss: 0.0856 - accuracy: 0.9815 - val_loss: 0.5446 - val_accuracy: 0.9167\n"
          ]
        },
        {
          "output_type": "execute_result",
          "data": {
            "text/plain": [
              "<keras.callbacks.History at 0x7ee7d85cf970>"
            ]
          },
          "metadata": {},
          "execution_count": 31
        }
      ]
    },
    {
      "cell_type": "code",
      "source": [
        "# Evaluate the model on the test set\n",
        "loss, accuracy = model.evaluate(X_test, y_test)\n",
        "print(f'Test accuracy: {accuracy:.4f}')"
      ],
      "metadata": {
        "colab": {
          "base_uri": "https://localhost:8080/"
        },
        "id": "zHyA8RgqbkPE",
        "outputId": "bb500a6b-7f6c-4ae3-ee8c-38193d479884"
      },
      "execution_count": 32,
      "outputs": [
        {
          "output_type": "stream",
          "name": "stdout",
          "text": [
            "1/1 [==============================] - 0s 32ms/step - loss: 0.4124 - accuracy: 0.9667\n",
            "Test accuracy: 0.9667\n"
          ]
        }
      ]
    },
    {
      "cell_type": "code",
      "source": [],
      "metadata": {
        "id": "WvfdsURRbkR6"
      },
      "execution_count": null,
      "outputs": []
    },
    {
      "cell_type": "code",
      "source": [],
      "metadata": {
        "id": "fpPJTj13bkT_"
      },
      "execution_count": null,
      "outputs": []
    }
  ]
}