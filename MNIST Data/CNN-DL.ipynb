{
  "cells": [
    {
      "cell_type": "code",
      "execution_count": 11,
      "metadata": {
        "id": "PwlBMcnMaU2Q"
      },
      "outputs": [],
      "source": [
        "# Import required libraries\n",
        "import numpy as np\n",
        "import tensorflow.keras.models\n",
        "import tensorflow.keras.layers\n",
        "import tensorflow.keras.datasets.mnist\n",
        "from tensorflow.keras.models import Sequential\n",
        "from tensorflow.keras.layers import Conv2D\n",
        "from tensorflow.keras.layers import MaxPool2D\n",
        "from tensorflow.keras.layers import GlobalAveragePooling2D\n",
        "from tensorflow.keras.layers import Dropout\n",
        "from tensorflow.keras.layers import Dense\n",
        "from tensorflow.keras.callbacks import ModelCheckpoint\n",
        "from tensorflow.keras.callbacks import EarlyStopping"
      ]
    },
    {
      "cell_type": "code",
      "execution_count": 12,
      "metadata": {
        "id": "nHyAdXp-akyq"
      },
      "outputs": [],
      "source": [
        "# Load data\n",
        "(x_train , y_train) , (x_test, y_test) = tensorflow.keras.datasets.mnist.load_data()"
      ]
    },
    {
      "cell_type": "code",
      "execution_count": 13,
      "metadata": {
        "colab": {
          "base_uri": "https://localhost:8080/"
        },
        "id": "mhwiDfbaa7O1",
        "outputId": "bc4d466d-0291-4f7a-f78c-b4b4b71bf50f"
      },
      "outputs": [
        {
          "name": "stdout",
          "output_type": "stream",
          "text": [
            "x_train shape:  (60000, 28, 28, 1)\n",
            "y_train shape:  (60000,)\n",
            "60000 train sample\n",
            "10000 test sample\n"
          ]
        }
      ],
      "source": [
        "# Dataset shape\n",
        "x_train = x_train.astype('float32') / 255\n",
        "x_test = x_test.astype('float32') / 255\n",
        "x_train = np.expand_dims(x_train, -1)\n",
        "x_test = np.expand_dims(x_test, -1)\n",
        "print (\"x_train shape: \" , x_train.shape)\n",
        "print (\"y_train shape: \" , y_train.shape)\n",
        "print(x_train.shape[0] , 'train sample')\n",
        "print(x_test.shape[0], 'test sample')"
      ]
    },
    {
      "cell_type": "code",
      "execution_count": 14,
      "metadata": {
        "id": "yWG7-Ic2dA23"
      },
      "outputs": [],
      "source": [
        "# Build a model\n",
        "\n",
        "num_class = 10\n",
        "input_shape = (28,28,1)\n",
        "\n",
        "# Instantiate a sequential model\n",
        "model = Sequential()\n",
        "\n",
        "# Add input and Conv2D layer\n",
        "model.add(Conv2D(64, input_shape = input_shape, kernel_size = (3,3), activation = 'relu'))\n",
        "model.add(Conv2D(64, kernel_size = (3,3), activation = 'relu'))\n",
        "\n",
        "# Add MaxPool2D layer\n",
        "model.add(MaxPool2D(pool_size= (2,2)))\n",
        "\n",
        "# Add more input and Conv2D layer\n",
        "model.add(Conv2D(128, kernel_size = (3,3), activation = 'relu'))\n",
        "model.add(Conv2D(128, kernel_size = (3,3), activation = 'relu'))\n",
        "\n",
        "# Add GlobalAveragePooling2D layer\n",
        "model.add(GlobalAveragePooling2D())\n",
        "\n",
        "# Add Dropout layer\n",
        "model.add(Dropout(0.5))\n",
        "\n",
        "# Add output layer\n",
        "model.add(Dense(num_class , activation = 'softmax'))"
      ]
    },
    {
      "cell_type": "code",
      "execution_count": 15,
      "metadata": {
        "colab": {
          "base_uri": "https://localhost:8080/"
        },
        "id": "da2C1MKmlB1K",
        "outputId": "034c1b71-cf42-48b8-8198-f7652eb9f92e"
      },
      "outputs": [
        {
          "name": "stdout",
          "output_type": "stream",
          "text": [
            "Model: \"sequential_1\"\n",
            "_________________________________________________________________\n",
            " Layer (type)                Output Shape              Param #   \n",
            "=================================================================\n",
            " conv2d_4 (Conv2D)           (None, 26, 26, 64)        640       \n",
            "                                                                 \n",
            " conv2d_5 (Conv2D)           (None, 24, 24, 64)        36928     \n",
            "                                                                 \n",
            " max_pooling2d_1 (MaxPooling  (None, 12, 12, 64)       0         \n",
            " 2D)                                                             \n",
            "                                                                 \n",
            " conv2d_6 (Conv2D)           (None, 10, 10, 128)       73856     \n",
            "                                                                 \n",
            " conv2d_7 (Conv2D)           (None, 8, 8, 128)         147584    \n",
            "                                                                 \n",
            " global_average_pooling2d_1   (None, 128)              0         \n",
            " (GlobalAveragePooling2D)                                        \n",
            "                                                                 \n",
            " dropout_1 (Dropout)         (None, 128)               0         \n",
            "                                                                 \n",
            " dense_1 (Dense)             (None, 10)                1290      \n",
            "                                                                 \n",
            "=================================================================\n",
            "Total params: 260,298\n",
            "Trainable params: 260,298\n",
            "Non-trainable params: 0\n",
            "_________________________________________________________________\n"
          ]
        }
      ],
      "source": [
        "# Display a summary\n",
        "model.summary()"
      ]
    },
    {
      "cell_type": "code",
      "execution_count": 16,
      "metadata": {
        "id": "memixIKdlEZm"
      },
      "outputs": [],
      "source": [
        "# Compile the model\n",
        "model.compile(optimizer='adam', loss = 'sparse_categorical_crossentropy', metrics=['accuracy'])"
      ]
    },
    {
      "cell_type": "code",
      "execution_count": 17,
      "metadata": {
        "id": "33EtafHrmDTZ"
      },
      "outputs": [],
      "source": [
        "# creat callback\n",
        "batch_size = 128\n",
        "epochs = 20\n",
        "callbacks = [ ModelCheckpoint(filepath= 'model_at_epoch_{epoch}.keras') , EarlyStopping (monitor= 'val_loss' , patience= 2 )]"
      ]
    },
    {
      "cell_type": "code",
      "execution_count": 18,
      "metadata": {
        "colab": {
          "base_uri": "https://localhost:8080/"
        },
        "id": "0nZ2xShVoWYm",
        "outputId": "154e611e-935e-4a58-dc60-b17070be13a0"
      },
      "outputs": [
        {
          "name": "stdout",
          "output_type": "stream",
          "text": [
            "Epoch 1/20\n",
            "399/399 [==============================] - 7s 13ms/step - loss: 0.7401 - accuracy: 0.7509 - val_loss: 0.1379 - val_accuracy: 0.9607\n",
            "Epoch 2/20\n",
            "399/399 [==============================] - 5s 13ms/step - loss: 0.2147 - accuracy: 0.9361 - val_loss: 0.0921 - val_accuracy: 0.9734\n",
            "Epoch 3/20\n",
            "399/399 [==============================] - 5s 12ms/step - loss: 0.1448 - accuracy: 0.9569 - val_loss: 0.0541 - val_accuracy: 0.9833\n",
            "Epoch 4/20\n",
            "399/399 [==============================] - 5s 13ms/step - loss: 0.1171 - accuracy: 0.9657 - val_loss: 0.0490 - val_accuracy: 0.9868\n",
            "Epoch 5/20\n",
            "399/399 [==============================] - 5s 12ms/step - loss: 0.0979 - accuracy: 0.9712 - val_loss: 0.0409 - val_accuracy: 0.9893\n",
            "Epoch 6/20\n",
            "399/399 [==============================] - 5s 12ms/step - loss: 0.0878 - accuracy: 0.9734 - val_loss: 0.0348 - val_accuracy: 0.9898\n",
            "Epoch 7/20\n",
            "399/399 [==============================] - 5s 12ms/step - loss: 0.0743 - accuracy: 0.9776 - val_loss: 0.0440 - val_accuracy: 0.9876\n",
            "Epoch 8/20\n",
            "399/399 [==============================] - 5s 12ms/step - loss: 0.0691 - accuracy: 0.9798 - val_loss: 0.0431 - val_accuracy: 0.9899\n"
          ]
        },
        {
          "data": {
            "text/plain": [
              "<keras.callbacks.History at 0x78f921fbb490>"
            ]
          },
          "execution_count": 18,
          "metadata": {},
          "output_type": "execute_result"
        }
      ],
      "source": [
        "# Fit the model \n",
        "model.fit( x_train, y_train, batch_size = batch_size, epochs= epochs, validation_split= 0.15, callbacks= callbacks )"
      ]
    },
    {
      "cell_type": "code",
      "execution_count": 19,
      "metadata": {
        "colab": {
          "base_uri": "https://localhost:8080/"
        },
        "id": "j28CNTFW-zs6",
        "outputId": "eee21ed2-b590-4119-9085-3e908324b833"
      },
      "outputs": [
        {
          "data": {
            "text/plain": [
              "[0.03537818789482117, 0.9900000095367432]"
            ]
          },
          "execution_count": 19,
          "metadata": {},
          "output_type": "execute_result"
        }
      ],
      "source": [
        "# Evaluate the model accuracy on the test set\n",
        "model.evaluate(x_test, y_test, verbose=0)"
      ]
    }
  ],
  "metadata": {
    "accelerator": "GPU",
    "colab": {
      "gpuType": "T4",
      "provenance": []
    },
    "kernelspec": {
      "display_name": "Python 3",
      "name": "python3"
    },
    "language_info": {
      "name": "python"
    }
  },
  "nbformat": 4,
  "nbformat_minor": 0
}
